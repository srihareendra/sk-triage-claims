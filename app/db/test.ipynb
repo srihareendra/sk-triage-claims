{
 "cells": [
  {
   "cell_type": "code",
   "execution_count": null,
   "id": "54387c97",
   "metadata": {},
   "outputs": [],
   "source": [
    "import os, csv, psycopg\n",
    "from psycopg.rows import dict_row\n",
    "from dotenv import load_dotenv\n",
    "\n",
    "load_dotenv()\n",
    "\n",
    "conn = psycopg.connect(\n",
    "    host=os.getenv(\"PGHOST\"),\n",
    "    port=os.getenv(\"PGPORT\"),\n",
    "    dbname=os.getenv(\"PGDATABASE\"),\n",
    "    user=os.getenv(\"PGUSER\"),\n",
    "    password=os.getenv(\"PGPASSWORD\"),\n",
    "    sslmode=\"require\" if os.getenv(\"PGSSL\", \"true\").lower() == \"true\" else \"disable\",\n",
    "    row_factory=dict_row\n",
    ")"
   ]
  },
  {
   "cell_type": "code",
   "execution_count": null,
   "id": "e89e6c33",
   "metadata": {},
   "outputs": [],
   "source": [
    "def load_table(csv_path, table, cols):\n",
    "    with conn.cursor() as cur, open(csv_path, newline=\"\", encoding=\"utf-8\") as f:\n",
    "        reader = csv.DictReader(f)\n",
    "        for row in reader:\n",
    "            vals = [row[c] if row[c] != \"\" else None for c in cols]\n",
    "            ph = \",\".join([\"%s\"] * len(cols))\n",
    "            cur.execute(\n",
    "                f\"INSERT INTO {table} ({','.join(cols)}) VALUES ({ph})\", vals\n",
    "            )\n",
    "    conn.commit()\n",
    "\n",
    "load_table(\"../data/customers.csv\",\"customers\",[\"name\",\"state\",\"age\"])\n",
    "load_table(\"../data/policies.csv\",\"policies\",[\"customer_id\",\"policy_type\",\"start_date\",\"end_date\",\"premium\"])\n",
    "load_table(\"../data/claims.csv\",\"claims\",[\"policy_id\",\"date_of_loss\",\"description\",\"amount_claimed\",\"status\"])"
   ]
  },
  {
   "cell_type": "code",
   "execution_count": 1,
   "id": "7eba5212",
   "metadata": {},
   "outputs": [
    {
     "ename": "ModuleNotFoundError",
     "evalue": "No module named 'tools'",
     "output_type": "error",
     "traceback": [
      "\u001b[31m---------------------------------------------------------------------------\u001b[39m",
      "\u001b[31mModuleNotFoundError\u001b[39m                       Traceback (most recent call last)",
      "\u001b[36mCell\u001b[39m\u001b[36m \u001b[39m\u001b[32mIn[1]\u001b[39m\u001b[32m, line 3\u001b[39m\n\u001b[32m      1\u001b[39m \u001b[38;5;28;01mimport\u001b[39;00m \u001b[34;01mos\u001b[39;00m\n\u001b[32m      2\u001b[39m \u001b[38;5;28;01mfrom\u001b[39;00m \u001b[34;01mopenai\u001b[39;00m \u001b[38;5;28;01mimport\u001b[39;00m AzureOpenAI\n\u001b[32m----> \u001b[39m\u001b[32m3\u001b[39m \u001b[38;5;28;01mfrom\u001b[39;00m \u001b[34;01mtools\u001b[39;00m\u001b[34;01m.\u001b[39;00m\u001b[34;01msql_tool\u001b[39;00m \u001b[38;5;28;01mimport\u001b[39;00m run_parameterized\n\u001b[32m      5\u001b[39m client = AzureOpenAI(\n\u001b[32m      6\u001b[39m     api_key=os.getenv(\u001b[33m\"\u001b[39m\u001b[33mAZURE_OPENAI_API_KEY\u001b[39m\u001b[33m\"\u001b[39m),\n\u001b[32m      7\u001b[39m     api_version=os.getenv(\u001b[33m\"\u001b[39m\u001b[33mAZURE_OPENAI_API_VERSION\u001b[39m\u001b[33m\"\u001b[39m,\u001b[33m\"\u001b[39m\u001b[33m2024-08-01-preview\u001b[39m\u001b[33m\"\u001b[39m),\n\u001b[32m      8\u001b[39m     azure_endpoint=os.getenv(\u001b[33m\"\u001b[39m\u001b[33mAZURE_OPENAI_ENDPOINT\u001b[39m\u001b[33m\"\u001b[39m),\n\u001b[32m      9\u001b[39m )\n\u001b[32m     10\u001b[39m EMBED_MODEL = os.getenv(\u001b[33m\"\u001b[39m\u001b[33mAZURE_OPENAI_EMBEDDING_DEPLOYMENT\u001b[39m\u001b[33m\"\u001b[39m)\n",
      "\u001b[31mModuleNotFoundError\u001b[39m: No module named 'tools'"
     ]
    }
   ],
   "source": [
    "import os\n",
    "from openai import AzureOpenAI\n",
    "from tools.sql_tool import run_parameterized\n",
    "\n",
    "client = AzureOpenAI(\n",
    "    api_key=os.getenv(\"AZURE_OPENAI_API_KEY\"),\n",
    "    api_version=os.getenv(\"AZURE_OPENAI_API_VERSION\",\"2024-08-01-preview\"),\n",
    "    azure_endpoint=os.getenv(\"AZURE_OPENAI_ENDPOINT\"),\n",
    ")\n",
    "EMBED_MODEL = os.getenv(\"AZURE_OPENAI_EMBEDDING_DEPLOYMENT\")\n",
    "\n",
    "def retrieve_similar_notes(query_text: str, k: int = 5):\n",
    "    resp = client.embeddings.create(model=EMBED_MODEL, input=query_text)\n",
    "    emb = resp.data[0].embedding\n",
    "    sql = (\n",
    "        \"SELECT note_id, claim_id, note_text, embedding <=> %s AS distance \"\n",
    "        \"FROM claim_notes \"\n",
    "        \"ORDER BY distance ASC \"\n",
    "        \"LIMIT %s;\"\n",
    "    )\n",
    "    return run_parameterized(sql, (emb, k))\n"
   ]
  },
  {
   "cell_type": "code",
   "execution_count": null,
   "id": "cb851644",
   "metadata": {},
   "outputs": [],
   "source": [
    "import os\n",
    "print(os.path.exists(\"../data/customers.csv\"))\n"
   ]
  }
 ],
 "metadata": {
  "kernelspec": {
   "display_name": "Python 3",
   "language": "python",
   "name": "python3"
  },
  "language_info": {
   "codemirror_mode": {
    "name": "ipython",
    "version": 3
   },
   "file_extension": ".py",
   "mimetype": "text/x-python",
   "name": "python",
   "nbconvert_exporter": "python",
   "pygments_lexer": "ipython3",
   "version": "3.12.10"
  }
 },
 "nbformat": 4,
 "nbformat_minor": 5
}
